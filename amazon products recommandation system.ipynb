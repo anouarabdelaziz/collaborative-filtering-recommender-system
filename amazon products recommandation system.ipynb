{
 "cells": [
  {
   "cell_type": "code",
   "execution_count": 28,
   "metadata": {},
   "outputs": [],
   "source": [
    "import matplotlib.pyplot as plt\n",
    "import pandas as pd\n",
    "import time\n",
    "from selenium import webdriver\n",
    "from requests_html import HTML\n",
    "import numpy as np \n",
    "from selenium.webdriver.chrome.options import Options "
   ]
  },
  {
   "cell_type": "code",
   "execution_count": 3,
   "metadata": {},
   "outputs": [],
   "source": [
    "options = Options()\n",
    "options.add_argument(\"--headless\")\n",
    "driver = webdriver.Chrome(options=options, executable_path=r'C:\\chromedriver\\chromedriver.exe')"
   ]
  },
  {
   "cell_type": "code",
   "execution_count": 4,
   "metadata": {},
   "outputs": [],
   "source": [
    "df = pd.read_json(r'Clothing_Shoes_and_Jewelry_5.json', lines=True)"
   ]
  },
  {
   "cell_type": "code",
   "execution_count": 5,
   "metadata": {},
   "outputs": [
    {
     "data": {
      "text/plain": [
       "(278677, 9)"
      ]
     },
     "execution_count": 5,
     "metadata": {},
     "output_type": "execute_result"
    }
   ],
   "source": [
    "df.shape"
   ]
  },
  {
   "cell_type": "code",
   "execution_count": 6,
   "metadata": {},
   "outputs": [
    {
     "data": {
      "text/html": [
       "<div>\n",
       "<style scoped>\n",
       "    .dataframe tbody tr th:only-of-type {\n",
       "        vertical-align: middle;\n",
       "    }\n",
       "\n",
       "    .dataframe tbody tr th {\n",
       "        vertical-align: top;\n",
       "    }\n",
       "\n",
       "    .dataframe thead th {\n",
       "        text-align: right;\n",
       "    }\n",
       "</style>\n",
       "<table border=\"1\" class=\"dataframe\">\n",
       "  <thead>\n",
       "    <tr style=\"text-align: right;\">\n",
       "      <th></th>\n",
       "      <th>reviewerID</th>\n",
       "      <th>asin</th>\n",
       "      <th>reviewerName</th>\n",
       "      <th>helpful</th>\n",
       "      <th>reviewText</th>\n",
       "      <th>overall</th>\n",
       "      <th>summary</th>\n",
       "      <th>unixReviewTime</th>\n",
       "      <th>reviewTime</th>\n",
       "    </tr>\n",
       "  </thead>\n",
       "  <tbody>\n",
       "    <tr>\n",
       "      <th>0</th>\n",
       "      <td>A1KLRMWW2FWPL4</td>\n",
       "      <td>0000031887</td>\n",
       "      <td>Amazon Customer \"cameramom\"</td>\n",
       "      <td>[0, 0]</td>\n",
       "      <td>This is a great tutu and at a really great pri...</td>\n",
       "      <td>5</td>\n",
       "      <td>Great tutu-  not cheaply made</td>\n",
       "      <td>1297468800</td>\n",
       "      <td>02 12, 2011</td>\n",
       "    </tr>\n",
       "    <tr>\n",
       "      <th>1</th>\n",
       "      <td>A2G5TCU2WDFZ65</td>\n",
       "      <td>0000031887</td>\n",
       "      <td>Amazon Customer</td>\n",
       "      <td>[0, 0]</td>\n",
       "      <td>I bought this for my 4 yr old daughter for dan...</td>\n",
       "      <td>5</td>\n",
       "      <td>Very Cute!!</td>\n",
       "      <td>1358553600</td>\n",
       "      <td>01 19, 2013</td>\n",
       "    </tr>\n",
       "    <tr>\n",
       "      <th>2</th>\n",
       "      <td>A1RLQXYNCMWRWN</td>\n",
       "      <td>0000031887</td>\n",
       "      <td>Carola</td>\n",
       "      <td>[0, 0]</td>\n",
       "      <td>What can I say... my daughters have it in oran...</td>\n",
       "      <td>5</td>\n",
       "      <td>I have buy more than one</td>\n",
       "      <td>1357257600</td>\n",
       "      <td>01 4, 2013</td>\n",
       "    </tr>\n",
       "    <tr>\n",
       "      <th>3</th>\n",
       "      <td>A8U3FAMSJVHS5</td>\n",
       "      <td>0000031887</td>\n",
       "      <td>Caromcg</td>\n",
       "      <td>[0, 0]</td>\n",
       "      <td>We bought several tutus at once, and they are ...</td>\n",
       "      <td>5</td>\n",
       "      <td>Adorable, Sturdy</td>\n",
       "      <td>1398556800</td>\n",
       "      <td>04 27, 2014</td>\n",
       "    </tr>\n",
       "    <tr>\n",
       "      <th>4</th>\n",
       "      <td>A3GEOILWLK86XM</td>\n",
       "      <td>0000031887</td>\n",
       "      <td>CJ</td>\n",
       "      <td>[0, 0]</td>\n",
       "      <td>Thank you Halo Heaven great product for Little...</td>\n",
       "      <td>5</td>\n",
       "      <td>Grammy's Angels Love it</td>\n",
       "      <td>1394841600</td>\n",
       "      <td>03 15, 2014</td>\n",
       "    </tr>\n",
       "    <tr>\n",
       "      <th>5</th>\n",
       "      <td>A27UF1MSF3DB2</td>\n",
       "      <td>0000031887</td>\n",
       "      <td>C-Lo \"Cynthia\"</td>\n",
       "      <td>[0, 0]</td>\n",
       "      <td>I received this today and I'm not a fan of it ...</td>\n",
       "      <td>4</td>\n",
       "      <td>It's ok</td>\n",
       "      <td>1396224000</td>\n",
       "      <td>03 31, 2014</td>\n",
       "    </tr>\n",
       "    <tr>\n",
       "      <th>6</th>\n",
       "      <td>A16GFPNVF4Y816</td>\n",
       "      <td>0000031887</td>\n",
       "      <td>design maven</td>\n",
       "      <td>[0, 0]</td>\n",
       "      <td>Bought this as a backup to the regular ballet ...</td>\n",
       "      <td>5</td>\n",
       "      <td>Great for dress-up and for ballet practice</td>\n",
       "      <td>1399075200</td>\n",
       "      <td>05 3, 2014</td>\n",
       "    </tr>\n",
       "    <tr>\n",
       "      <th>7</th>\n",
       "      <td>A2M2APVYIB2U6K</td>\n",
       "      <td>0000031887</td>\n",
       "      <td>Jamie P.</td>\n",
       "      <td>[0, 0]</td>\n",
       "      <td>Great tutu for a great price. It isn't a &amp;#34;...</td>\n",
       "      <td>5</td>\n",
       "      <td>Great value</td>\n",
       "      <td>1356220800</td>\n",
       "      <td>12 23, 2012</td>\n",
       "    </tr>\n",
       "    <tr>\n",
       "      <th>8</th>\n",
       "      <td>A1NJ71X3YPQNQ9</td>\n",
       "      <td>0000031887</td>\n",
       "      <td>JBerger</td>\n",
       "      <td>[0, 0]</td>\n",
       "      <td>My daughter liked this, and it with her costum...</td>\n",
       "      <td>4</td>\n",
       "      <td>Good</td>\n",
       "      <td>1384041600</td>\n",
       "      <td>11 10, 2013</td>\n",
       "    </tr>\n",
       "    <tr>\n",
       "      <th>9</th>\n",
       "      <td>A3EERSWHAI6SO</td>\n",
       "      <td>0000031887</td>\n",
       "      <td>Jeffrey Hollingshead \"Jillian hollingshead\"</td>\n",
       "      <td>[7, 8]</td>\n",
       "      <td>For what I paid for two tutus is unbeatable an...</td>\n",
       "      <td>5</td>\n",
       "      <td>WOW !! ..is all I have to say!</td>\n",
       "      <td>1349568000</td>\n",
       "      <td>10 7, 2012</td>\n",
       "    </tr>\n",
       "  </tbody>\n",
       "</table>\n",
       "</div>"
      ],
      "text/plain": [
       "       reviewerID        asin                                 reviewerName  \\\n",
       "0  A1KLRMWW2FWPL4  0000031887                  Amazon Customer \"cameramom\"   \n",
       "1  A2G5TCU2WDFZ65  0000031887                              Amazon Customer   \n",
       "2  A1RLQXYNCMWRWN  0000031887                                       Carola   \n",
       "3   A8U3FAMSJVHS5  0000031887                                      Caromcg   \n",
       "4  A3GEOILWLK86XM  0000031887                                           CJ   \n",
       "5   A27UF1MSF3DB2  0000031887                               C-Lo \"Cynthia\"   \n",
       "6  A16GFPNVF4Y816  0000031887                                 design maven   \n",
       "7  A2M2APVYIB2U6K  0000031887                                     Jamie P.   \n",
       "8  A1NJ71X3YPQNQ9  0000031887                                      JBerger   \n",
       "9   A3EERSWHAI6SO  0000031887  Jeffrey Hollingshead \"Jillian hollingshead\"   \n",
       "\n",
       "  helpful                                         reviewText  overall  \\\n",
       "0  [0, 0]  This is a great tutu and at a really great pri...        5   \n",
       "1  [0, 0]  I bought this for my 4 yr old daughter for dan...        5   \n",
       "2  [0, 0]  What can I say... my daughters have it in oran...        5   \n",
       "3  [0, 0]  We bought several tutus at once, and they are ...        5   \n",
       "4  [0, 0]  Thank you Halo Heaven great product for Little...        5   \n",
       "5  [0, 0]  I received this today and I'm not a fan of it ...        4   \n",
       "6  [0, 0]  Bought this as a backup to the regular ballet ...        5   \n",
       "7  [0, 0]  Great tutu for a great price. It isn't a &#34;...        5   \n",
       "8  [0, 0]  My daughter liked this, and it with her costum...        4   \n",
       "9  [7, 8]  For what I paid for two tutus is unbeatable an...        5   \n",
       "\n",
       "                                      summary  unixReviewTime   reviewTime  \n",
       "0               Great tutu-  not cheaply made      1297468800  02 12, 2011  \n",
       "1                                 Very Cute!!      1358553600  01 19, 2013  \n",
       "2                    I have buy more than one      1357257600   01 4, 2013  \n",
       "3                            Adorable, Sturdy      1398556800  04 27, 2014  \n",
       "4                     Grammy's Angels Love it      1394841600  03 15, 2014  \n",
       "5                                     It's ok      1396224000  03 31, 2014  \n",
       "6  Great for dress-up and for ballet practice      1399075200   05 3, 2014  \n",
       "7                                 Great value      1356220800  12 23, 2012  \n",
       "8                                        Good      1384041600  11 10, 2013  \n",
       "9              WOW !! ..is all I have to say!      1349568000   10 7, 2012  "
      ]
     },
     "execution_count": 6,
     "metadata": {},
     "output_type": "execute_result"
    }
   ],
   "source": [
    "df.head(10)"
   ]
  },
  {
   "cell_type": "code",
   "execution_count": 7,
   "metadata": {},
   "outputs": [
    {
     "data": {
      "text/plain": [
       "False"
      ]
     },
     "execution_count": 7,
     "metadata": {},
     "output_type": "execute_result"
    }
   ],
   "source": [
    "df.overall.isna().any()"
   ]
  },
  {
   "cell_type": "code",
   "execution_count": 8,
   "metadata": {},
   "outputs": [
    {
     "data": {
      "text/plain": [
       "<matplotlib.axes._subplots.AxesSubplot at 0x1f917f46040>"
      ]
     },
     "execution_count": 8,
     "metadata": {},
     "output_type": "execute_result"
    },
    {
     "data": {
      "image/png": "[encoded data removed]",
      "text/plain": [
       "<Figure size 1152x576 with 1 Axes>"
      ]
     },
     "metadata": {
      "needs_background": "light"
     },
     "output_type": "display_data"
    }
   ],
   "source": [
    "#visualizing the distribution of the reviews on the original dataset\n",
    "plt.figure(figsize=(16, 8))\n",
    "plt.xlabel('reviews')\n",
    "plt.ylabel('number of the reviews')\n",
    "df.overall.hist(bins=[0,1,2,3,4,5])"
   ]
  },
  {
   "cell_type": "code",
   "execution_count": 9,
   "metadata": {},
   "outputs": [],
   "source": [
    "df2 = df.drop(['reviewerName', 'helpful', 'reviewText', 'summary', 'unixReviewTime', 'reviewTime'], axis=1)"
   ]
  },
  {
   "cell_type": "code",
   "execution_count": 10,
   "metadata": {},
   "outputs": [],
   "source": [
    "#i'm going to run the rest of the code on a subset of the dataset due to time and space complexity \n",
    "df3 = df2.iloc[0:10000, :]"
   ]
  },
  {
   "cell_type": "code",
   "execution_count": 11,
   "metadata": {},
   "outputs": [
    {
     "data": {
      "text/html": [
       "<div>\n",
       "<style scoped>\n",
       "    .dataframe tbody tr th:only-of-type {\n",
       "        vertical-align: middle;\n",
       "    }\n",
       "\n",
       "    .dataframe tbody tr th {\n",
       "        vertical-align: top;\n",
       "    }\n",
       "\n",
       "    .dataframe thead th {\n",
       "        text-align: right;\n",
       "    }\n",
       "</style>\n",
       "<table border=\"1\" class=\"dataframe\">\n",
       "  <thead>\n",
       "    <tr style=\"text-align: right;\">\n",
       "      <th></th>\n",
       "      <th>reviewerID</th>\n",
       "      <th>asin</th>\n",
       "      <th>overall</th>\n",
       "    </tr>\n",
       "  </thead>\n",
       "  <tbody>\n",
       "    <tr>\n",
       "      <th>0</th>\n",
       "      <td>A1KLRMWW2FWPL4</td>\n",
       "      <td>0000031887</td>\n",
       "      <td>5</td>\n",
       "    </tr>\n",
       "    <tr>\n",
       "      <th>1</th>\n",
       "      <td>A2G5TCU2WDFZ65</td>\n",
       "      <td>0000031887</td>\n",
       "      <td>5</td>\n",
       "    </tr>\n",
       "    <tr>\n",
       "      <th>2</th>\n",
       "      <td>A1RLQXYNCMWRWN</td>\n",
       "      <td>0000031887</td>\n",
       "      <td>5</td>\n",
       "    </tr>\n",
       "    <tr>\n",
       "      <th>3</th>\n",
       "      <td>A8U3FAMSJVHS5</td>\n",
       "      <td>0000031887</td>\n",
       "      <td>5</td>\n",
       "    </tr>\n",
       "    <tr>\n",
       "      <th>4</th>\n",
       "      <td>A3GEOILWLK86XM</td>\n",
       "      <td>0000031887</td>\n",
       "      <td>5</td>\n",
       "    </tr>\n",
       "  </tbody>\n",
       "</table>\n",
       "</div>"
      ],
      "text/plain": [
       "       reviewerID        asin  overall\n",
       "0  A1KLRMWW2FWPL4  0000031887        5\n",
       "1  A2G5TCU2WDFZ65  0000031887        5\n",
       "2  A1RLQXYNCMWRWN  0000031887        5\n",
       "3   A8U3FAMSJVHS5  0000031887        5\n",
       "4  A3GEOILWLK86XM  0000031887        5"
      ]
     },
     "execution_count": 11,
     "metadata": {},
     "output_type": "execute_result"
    }
   ],
   "source": [
    "df3.head()"
   ]
  },
  {
   "cell_type": "code",
   "execution_count": 12,
   "metadata": {},
   "outputs": [
    {
     "data": {
      "text/plain": [
       "(10000, 3)"
      ]
     },
     "execution_count": 12,
     "metadata": {},
     "output_type": "execute_result"
    }
   ],
   "source": [
    "df3.shape"
   ]
  },
  {
   "cell_type": "code",
   "execution_count": 79,
   "metadata": {},
   "outputs": [],
   "source": [
    "#most well ratted items\n",
    "dfr = pd.DataFrame(df3.groupby(['asin'])['overall'].mean())\n",
    "dfm = pd.DataFrame(df3.groupby(['asin'])['overall'].count())"
   ]
  },
  {
   "cell_type": "code",
   "execution_count": 80,
   "metadata": {},
   "outputs": [
    {
     "data": {
      "text/plain": [
       "(566, 1)"
      ]
     },
     "execution_count": 80,
     "metadata": {},
     "output_type": "execute_result"
    }
   ],
   "source": [
    "dfm.shape"
   ]
  },
  {
   "cell_type": "code",
   "execution_count": 81,
   "metadata": {},
   "outputs": [
    {
     "data": {
      "text/html": [
       "<div>\n",
       "<style scoped>\n",
       "    .dataframe tbody tr th:only-of-type {\n",
       "        vertical-align: middle;\n",
       "    }\n",
       "\n",
       "    .dataframe tbody tr th {\n",
       "        vertical-align: top;\n",
       "    }\n",
       "\n",
       "    .dataframe thead th {\n",
       "        text-align: right;\n",
       "    }\n",
       "</style>\n",
       "<table border=\"1\" class=\"dataframe\">\n",
       "  <thead>\n",
       "    <tr style=\"text-align: right;\">\n",
       "      <th></th>\n",
       "      <th>overall</th>\n",
       "    </tr>\n",
       "    <tr>\n",
       "      <th>asin</th>\n",
       "      <th></th>\n",
       "    </tr>\n",
       "  </thead>\n",
       "  <tbody>\n",
       "    <tr>\n",
       "      <th>B0000C321X</th>\n",
       "      <td>205</td>\n",
       "    </tr>\n",
       "    <tr>\n",
       "      <th>B0001ZNZJM</th>\n",
       "      <td>197</td>\n",
       "    </tr>\n",
       "    <tr>\n",
       "      <th>B00012O12A</th>\n",
       "      <td>189</td>\n",
       "    </tr>\n",
       "    <tr>\n",
       "      <th>B0002TOZ1E</th>\n",
       "      <td>127</td>\n",
       "    </tr>\n",
       "    <tr>\n",
       "      <th>B0000ANHST</th>\n",
       "      <td>117</td>\n",
       "    </tr>\n",
       "  </tbody>\n",
       "</table>\n",
       "</div>"
      ],
      "text/plain": [
       "            overall\n",
       "asin               \n",
       "B0000C321X      205\n",
       "B0001ZNZJM      197\n",
       "B00012O12A      189\n",
       "B0002TOZ1E      127\n",
       "B0000ANHST      117"
      ]
     },
     "execution_count": 81,
     "metadata": {},
     "output_type": "execute_result"
    }
   ],
   "source": [
    "dfm.sort_values('overall', ascending = False).head()"
   ]
  },
  {
   "cell_type": "code",
   "execution_count": 82,
   "metadata": {},
   "outputs": [
    {
     "data": {
      "text/html": [
       "<div>\n",
       "<style scoped>\n",
       "    .dataframe tbody tr th:only-of-type {\n",
       "        vertical-align: middle;\n",
       "    }\n",
       "\n",
       "    .dataframe tbody tr th {\n",
       "        vertical-align: top;\n",
       "    }\n",
       "\n",
       "    .dataframe thead th {\n",
       "        text-align: right;\n",
       "    }\n",
       "</style>\n",
       "<table border=\"1\" class=\"dataframe\">\n",
       "  <thead>\n",
       "    <tr style=\"text-align: right;\">\n",
       "      <th></th>\n",
       "      <th>overall</th>\n",
       "    </tr>\n",
       "    <tr>\n",
       "      <th>asin</th>\n",
       "      <th></th>\n",
       "    </tr>\n",
       "  </thead>\n",
       "  <tbody>\n",
       "    <tr>\n",
       "      <th>B0002KWZ3I</th>\n",
       "      <td>5.0</td>\n",
       "    </tr>\n",
       "    <tr>\n",
       "      <th>B00062NN42</th>\n",
       "      <td>5.0</td>\n",
       "    </tr>\n",
       "    <tr>\n",
       "      <th>B0000ZFEWY</th>\n",
       "      <td>5.0</td>\n",
       "    </tr>\n",
       "    <tr>\n",
       "      <th>B0002Z1KR0</th>\n",
       "      <td>5.0</td>\n",
       "    </tr>\n",
       "    <tr>\n",
       "      <th>B0000ASDJH</th>\n",
       "      <td>5.0</td>\n",
       "    </tr>\n",
       "  </tbody>\n",
       "</table>\n",
       "</div>"
      ],
      "text/plain": [
       "            overall\n",
       "asin               \n",
       "B0002KWZ3I      5.0\n",
       "B00062NN42      5.0\n",
       "B0000ZFEWY      5.0\n",
       "B0002Z1KR0      5.0\n",
       "B0000ASDJH      5.0"
      ]
     },
     "execution_count": 82,
     "metadata": {},
     "output_type": "execute_result"
    }
   ],
   "source": [
    "dfr.sort_values('overall', ascending = False).head()"
   ]
  },
  {
   "cell_type": "code",
   "execution_count": 84,
   "metadata": {},
   "outputs": [
    {
     "data": {
      "text/html": [
       "<div>\n",
       "<style scoped>\n",
       "    .dataframe tbody tr th:only-of-type {\n",
       "        vertical-align: middle;\n",
       "    }\n",
       "\n",
       "    .dataframe tbody tr th {\n",
       "        vertical-align: top;\n",
       "    }\n",
       "\n",
       "    .dataframe thead th {\n",
       "        text-align: right;\n",
       "    }\n",
       "</style>\n",
       "<table border=\"1\" class=\"dataframe\">\n",
       "  <thead>\n",
       "    <tr style=\"text-align: right;\">\n",
       "      <th></th>\n",
       "      <th>overall_count</th>\n",
       "      <th>overall_mean</th>\n",
       "    </tr>\n",
       "    <tr>\n",
       "      <th>asin</th>\n",
       "      <th></th>\n",
       "      <th></th>\n",
       "    </tr>\n",
       "  </thead>\n",
       "  <tbody>\n",
       "    <tr>\n",
       "      <th>B0002KWZ3I</th>\n",
       "      <td>5</td>\n",
       "      <td>5.0</td>\n",
       "    </tr>\n",
       "    <tr>\n",
       "      <th>B00062NN42</th>\n",
       "      <td>5</td>\n",
       "      <td>5.0</td>\n",
       "    </tr>\n",
       "    <tr>\n",
       "      <th>B0000ZFEWY</th>\n",
       "      <td>9</td>\n",
       "      <td>5.0</td>\n",
       "    </tr>\n",
       "    <tr>\n",
       "      <th>B0002Z1KR0</th>\n",
       "      <td>5</td>\n",
       "      <td>5.0</td>\n",
       "    </tr>\n",
       "    <tr>\n",
       "      <th>B0000ASDJH</th>\n",
       "      <td>7</td>\n",
       "      <td>5.0</td>\n",
       "    </tr>\n",
       "  </tbody>\n",
       "</table>\n",
       "</div>"
      ],
      "text/plain": [
       "            overall_count  overall_mean\n",
       "asin                                   \n",
       "B0002KWZ3I              5           5.0\n",
       "B00062NN42              5           5.0\n",
       "B0000ZFEWY              9           5.0\n",
       "B0002Z1KR0              5           5.0\n",
       "B0000ASDJH              7           5.0"
      ]
     },
     "execution_count": 84,
     "metadata": {},
     "output_type": "execute_result"
    }
   ],
   "source": [
    "dff= dfm.merge(dfr, left_on='asin', right_on ='asin', how='left', suffixes=('_count', '_mean'))\n",
    "dff.sort_values('overall_mean', ascending = False).head()"
   ]
  },
  {
   "cell_type": "code",
   "execution_count": 85,
   "metadata": {},
   "outputs": [],
   "source": [
    "threshold = 50\n",
    "dff = dff.query('overall_count >= @threshold')"
   ]
  },
  {
   "cell_type": "code",
   "execution_count": 86,
   "metadata": {},
   "outputs": [
    {
     "data": {
      "text/plain": [
       "(39, 2)"
      ]
     },
     "execution_count": 86,
     "metadata": {},
     "output_type": "execute_result"
    }
   ],
   "source": [
    "dff.shape"
   ]
  },
  {
   "cell_type": "code",
   "execution_count": 87,
   "metadata": {},
   "outputs": [],
   "source": [
    "title_lookup = \"#productTitle\"\n",
    "qs = \"B0001ZNZF6\""
   ]
  },
  {
   "cell_type": "code",
   "execution_count": 88,
   "metadata": {},
   "outputs": [
    {
     "data": {
      "text/plain": [
       "\"ExOfficio Men's Give-N-Go Boxer Travel Underwear\""
      ]
     },
     "execution_count": 88,
     "metadata": {},
     "output_type": "execute_result"
    }
   ],
   "source": [
    "url  = f\"https://www.amazon.co.uk/dp/{qs}\"\n",
    "time.sleep(1.2)\n",
    "driver.get(url)\n",
    "body_el = driver.find_element_by_css_selector(\"body\")\n",
    "html_str = body_el.get_attribute(\"innerHTML\") \n",
    "html_obj = HTML(html=html_str)\n",
    "title = html_obj.find(title_lookup, first=True).text\n",
    "title"
   ]
  },
  {
   "cell_type": "code",
   "execution_count": 13,
   "metadata": {},
   "outputs": [],
   "source": [
    "from scipy.sparse import csr_matrix\n"
   ]
  },
  {
   "cell_type": "code",
   "execution_count": 14,
   "metadata": {},
   "outputs": [
    {
     "data": {
      "text/plain": [
       "<566x8069 sparse matrix of type '<class 'numpy.float64'>'\n",
       "\twith 10000 stored elements in Compressed Sparse Row format>"
      ]
     },
     "execution_count": 14,
     "metadata": {},
     "output_type": "execute_result"
    }
   ],
   "source": [
    "df3_pivot = df3.pivot(index='asin', columns ='reviewerID', values='overall').fillna(0)\n",
    "df3_matrix = csr_matrix(df3_pivot)\n",
    "df3_matrix"
   ]
  },
  {
   "cell_type": "code",
   "execution_count": 15,
   "metadata": {},
   "outputs": [
    {
     "data": {
      "text/html": [
       "<div>\n",
       "<style scoped>\n",
       "    .dataframe tbody tr th:only-of-type {\n",
       "        vertical-align: middle;\n",
       "    }\n",
       "\n",
       "    .dataframe tbody tr th {\n",
       "        vertical-align: top;\n",
       "    }\n",
       "\n",
       "    .dataframe thead th {\n",
       "        text-align: right;\n",
       "    }\n",
       "</style>\n",
       "<table border=\"1\" class=\"dataframe\">\n",
       "  <thead>\n",
       "    <tr style=\"text-align: right;\">\n",
       "      <th>reviewerID</th>\n",
       "      <th>A00635603LUUJQPQWSJW1</th>\n",
       "      <th>A0148968UM59JS3Y8D1M</th>\n",
       "      <th>A02155413BVL8D0G7X6DN</th>\n",
       "      <th>A02324053VU4N09WNQTBN</th>\n",
       "      <th>A02755422E9NI29TCQ5W3</th>\n",
       "      <th>A04559521ZZJ87IMRVPME</th>\n",
       "      <th>A08129883L3CSLT4GL6CC</th>\n",
       "      <th>A0825208308SUUOFJ2SHH</th>\n",
       "      <th>A097288670N6V5MXLZRB</th>\n",
       "      <th>A1001UEHDLCC1Z</th>\n",
       "      <th>...</th>\n",
       "      <th>AZUNMKF75X0WY</th>\n",
       "      <th>AZW49LJWVL83Q</th>\n",
       "      <th>AZWXG6KBXXC2N</th>\n",
       "      <th>AZX2RDN9YXZAE</th>\n",
       "      <th>AZXGPM8EKSHE9</th>\n",
       "      <th>AZXS6P5QWNMLC</th>\n",
       "      <th>AZYGUNBHBC9RI</th>\n",
       "      <th>AZYP4FQ2L2C4O</th>\n",
       "      <th>AZYZQ7I9L7G3G</th>\n",
       "      <th>AZZTOUKVTUMVM</th>\n",
       "    </tr>\n",
       "    <tr>\n",
       "      <th>asin</th>\n",
       "      <th></th>\n",
       "      <th></th>\n",
       "      <th></th>\n",
       "      <th></th>\n",
       "      <th></th>\n",
       "      <th></th>\n",
       "      <th></th>\n",
       "      <th></th>\n",
       "      <th></th>\n",
       "      <th></th>\n",
       "      <th></th>\n",
       "      <th></th>\n",
       "      <th></th>\n",
       "      <th></th>\n",
       "      <th></th>\n",
       "      <th></th>\n",
       "      <th></th>\n",
       "      <th></th>\n",
       "      <th></th>\n",
       "      <th></th>\n",
       "      <th></th>\n",
       "    </tr>\n",
       "  </thead>\n",
       "  <tbody>\n",
       "    <tr>\n",
       "      <th>0000031887</th>\n",
       "      <td>0.0</td>\n",
       "      <td>0.0</td>\n",
       "      <td>0.0</td>\n",
       "      <td>0.0</td>\n",
       "      <td>0.0</td>\n",
       "      <td>0.0</td>\n",
       "      <td>0.0</td>\n",
       "      <td>0.0</td>\n",
       "      <td>0.0</td>\n",
       "      <td>0.0</td>\n",
       "      <td>...</td>\n",
       "      <td>0.0</td>\n",
       "      <td>0.0</td>\n",
       "      <td>0.0</td>\n",
       "      <td>0.0</td>\n",
       "      <td>0.0</td>\n",
       "      <td>0.0</td>\n",
       "      <td>0.0</td>\n",
       "      <td>0.0</td>\n",
       "      <td>0.0</td>\n",
       "      <td>0.0</td>\n",
       "    </tr>\n",
       "    <tr>\n",
       "      <th>0123456479</th>\n",
       "      <td>0.0</td>\n",
       "      <td>0.0</td>\n",
       "      <td>0.0</td>\n",
       "      <td>0.0</td>\n",
       "      <td>0.0</td>\n",
       "      <td>0.0</td>\n",
       "      <td>0.0</td>\n",
       "      <td>0.0</td>\n",
       "      <td>0.0</td>\n",
       "      <td>0.0</td>\n",
       "      <td>...</td>\n",
       "      <td>0.0</td>\n",
       "      <td>0.0</td>\n",
       "      <td>0.0</td>\n",
       "      <td>0.0</td>\n",
       "      <td>0.0</td>\n",
       "      <td>0.0</td>\n",
       "      <td>0.0</td>\n",
       "      <td>0.0</td>\n",
       "      <td>0.0</td>\n",
       "      <td>0.0</td>\n",
       "    </tr>\n",
       "    <tr>\n",
       "      <th>1608299953</th>\n",
       "      <td>0.0</td>\n",
       "      <td>0.0</td>\n",
       "      <td>0.0</td>\n",
       "      <td>0.0</td>\n",
       "      <td>0.0</td>\n",
       "      <td>0.0</td>\n",
       "      <td>0.0</td>\n",
       "      <td>0.0</td>\n",
       "      <td>0.0</td>\n",
       "      <td>0.0</td>\n",
       "      <td>...</td>\n",
       "      <td>0.0</td>\n",
       "      <td>0.0</td>\n",
       "      <td>0.0</td>\n",
       "      <td>0.0</td>\n",
       "      <td>0.0</td>\n",
       "      <td>0.0</td>\n",
       "      <td>0.0</td>\n",
       "      <td>0.0</td>\n",
       "      <td>0.0</td>\n",
       "      <td>0.0</td>\n",
       "    </tr>\n",
       "    <tr>\n",
       "      <th>1617160377</th>\n",
       "      <td>0.0</td>\n",
       "      <td>0.0</td>\n",
       "      <td>0.0</td>\n",
       "      <td>0.0</td>\n",
       "      <td>0.0</td>\n",
       "      <td>0.0</td>\n",
       "      <td>0.0</td>\n",
       "      <td>0.0</td>\n",
       "      <td>0.0</td>\n",
       "      <td>0.0</td>\n",
       "      <td>...</td>\n",
       "      <td>0.0</td>\n",
       "      <td>0.0</td>\n",
       "      <td>0.0</td>\n",
       "      <td>0.0</td>\n",
       "      <td>0.0</td>\n",
       "      <td>0.0</td>\n",
       "      <td>0.0</td>\n",
       "      <td>0.0</td>\n",
       "      <td>0.0</td>\n",
       "      <td>0.0</td>\n",
       "    </tr>\n",
       "    <tr>\n",
       "      <th>B00001W0KA</th>\n",
       "      <td>0.0</td>\n",
       "      <td>0.0</td>\n",
       "      <td>0.0</td>\n",
       "      <td>0.0</td>\n",
       "      <td>0.0</td>\n",
       "      <td>0.0</td>\n",
       "      <td>0.0</td>\n",
       "      <td>0.0</td>\n",
       "      <td>0.0</td>\n",
       "      <td>0.0</td>\n",
       "      <td>...</td>\n",
       "      <td>0.0</td>\n",
       "      <td>0.0</td>\n",
       "      <td>0.0</td>\n",
       "      <td>0.0</td>\n",
       "      <td>0.0</td>\n",
       "      <td>0.0</td>\n",
       "      <td>0.0</td>\n",
       "      <td>0.0</td>\n",
       "      <td>0.0</td>\n",
       "      <td>0.0</td>\n",
       "    </tr>\n",
       "    <tr>\n",
       "      <th>...</th>\n",
       "      <td>...</td>\n",
       "      <td>...</td>\n",
       "      <td>...</td>\n",
       "      <td>...</td>\n",
       "      <td>...</td>\n",
       "      <td>...</td>\n",
       "      <td>...</td>\n",
       "      <td>...</td>\n",
       "      <td>...</td>\n",
       "      <td>...</td>\n",
       "      <td>...</td>\n",
       "      <td>...</td>\n",
       "      <td>...</td>\n",
       "      <td>...</td>\n",
       "      <td>...</td>\n",
       "      <td>...</td>\n",
       "      <td>...</td>\n",
       "      <td>...</td>\n",
       "      <td>...</td>\n",
       "      <td>...</td>\n",
       "      <td>...</td>\n",
       "    </tr>\n",
       "    <tr>\n",
       "      <th>B00074MEYE</th>\n",
       "      <td>0.0</td>\n",
       "      <td>0.0</td>\n",
       "      <td>0.0</td>\n",
       "      <td>0.0</td>\n",
       "      <td>0.0</td>\n",
       "      <td>0.0</td>\n",
       "      <td>0.0</td>\n",
       "      <td>0.0</td>\n",
       "      <td>0.0</td>\n",
       "      <td>0.0</td>\n",
       "      <td>...</td>\n",
       "      <td>0.0</td>\n",
       "      <td>0.0</td>\n",
       "      <td>0.0</td>\n",
       "      <td>0.0</td>\n",
       "      <td>0.0</td>\n",
       "      <td>0.0</td>\n",
       "      <td>0.0</td>\n",
       "      <td>0.0</td>\n",
       "      <td>0.0</td>\n",
       "      <td>0.0</td>\n",
       "    </tr>\n",
       "    <tr>\n",
       "      <th>B00075J1K8</th>\n",
       "      <td>0.0</td>\n",
       "      <td>0.0</td>\n",
       "      <td>0.0</td>\n",
       "      <td>0.0</td>\n",
       "      <td>0.0</td>\n",
       "      <td>0.0</td>\n",
       "      <td>0.0</td>\n",
       "      <td>0.0</td>\n",
       "      <td>0.0</td>\n",
       "      <td>0.0</td>\n",
       "      <td>...</td>\n",
       "      <td>0.0</td>\n",
       "      <td>0.0</td>\n",
       "      <td>0.0</td>\n",
       "      <td>0.0</td>\n",
       "      <td>0.0</td>\n",
       "      <td>0.0</td>\n",
       "      <td>0.0</td>\n",
       "      <td>0.0</td>\n",
       "      <td>0.0</td>\n",
       "      <td>0.0</td>\n",
       "    </tr>\n",
       "    <tr>\n",
       "      <th>B00075ZWR4</th>\n",
       "      <td>0.0</td>\n",
       "      <td>0.0</td>\n",
       "      <td>0.0</td>\n",
       "      <td>0.0</td>\n",
       "      <td>0.0</td>\n",
       "      <td>0.0</td>\n",
       "      <td>0.0</td>\n",
       "      <td>0.0</td>\n",
       "      <td>0.0</td>\n",
       "      <td>0.0</td>\n",
       "      <td>...</td>\n",
       "      <td>0.0</td>\n",
       "      <td>0.0</td>\n",
       "      <td>0.0</td>\n",
       "      <td>0.0</td>\n",
       "      <td>0.0</td>\n",
       "      <td>0.0</td>\n",
       "      <td>0.0</td>\n",
       "      <td>0.0</td>\n",
       "      <td>0.0</td>\n",
       "      <td>0.0</td>\n",
       "    </tr>\n",
       "    <tr>\n",
       "      <th>B00075ZXLE</th>\n",
       "      <td>0.0</td>\n",
       "      <td>0.0</td>\n",
       "      <td>0.0</td>\n",
       "      <td>0.0</td>\n",
       "      <td>0.0</td>\n",
       "      <td>0.0</td>\n",
       "      <td>0.0</td>\n",
       "      <td>0.0</td>\n",
       "      <td>0.0</td>\n",
       "      <td>0.0</td>\n",
       "      <td>...</td>\n",
       "      <td>0.0</td>\n",
       "      <td>0.0</td>\n",
       "      <td>0.0</td>\n",
       "      <td>0.0</td>\n",
       "      <td>0.0</td>\n",
       "      <td>0.0</td>\n",
       "      <td>0.0</td>\n",
       "      <td>0.0</td>\n",
       "      <td>0.0</td>\n",
       "      <td>0.0</td>\n",
       "    </tr>\n",
       "    <tr>\n",
       "      <th>B00075ZYRW</th>\n",
       "      <td>0.0</td>\n",
       "      <td>0.0</td>\n",
       "      <td>0.0</td>\n",
       "      <td>0.0</td>\n",
       "      <td>0.0</td>\n",
       "      <td>0.0</td>\n",
       "      <td>5.0</td>\n",
       "      <td>0.0</td>\n",
       "      <td>0.0</td>\n",
       "      <td>0.0</td>\n",
       "      <td>...</td>\n",
       "      <td>0.0</td>\n",
       "      <td>0.0</td>\n",
       "      <td>0.0</td>\n",
       "      <td>0.0</td>\n",
       "      <td>0.0</td>\n",
       "      <td>0.0</td>\n",
       "      <td>0.0</td>\n",
       "      <td>0.0</td>\n",
       "      <td>0.0</td>\n",
       "      <td>0.0</td>\n",
       "    </tr>\n",
       "  </tbody>\n",
       "</table>\n",
       "<p>566 rows × 8069 columns</p>\n",
       "</div>"
      ],
      "text/plain": [
       "reviewerID  A00635603LUUJQPQWSJW1  A0148968UM59JS3Y8D1M  \\\n",
       "asin                                                      \n",
       "0000031887                    0.0                   0.0   \n",
       "0123456479                    0.0                   0.0   \n",
       "1608299953                    0.0                   0.0   \n",
       "1617160377                    0.0                   0.0   \n",
       "B00001W0KA                    0.0                   0.0   \n",
       "...                           ...                   ...   \n",
       "B00074MEYE                    0.0                   0.0   \n",
       "B00075J1K8                    0.0                   0.0   \n",
       "B00075ZWR4                    0.0                   0.0   \n",
       "B00075ZXLE                    0.0                   0.0   \n",
       "B00075ZYRW                    0.0                   0.0   \n",
       "\n",
       "reviewerID  A02155413BVL8D0G7X6DN  A02324053VU4N09WNQTBN  \\\n",
       "asin                                                       \n",
       "0000031887                    0.0                    0.0   \n",
       "0123456479                    0.0                    0.0   \n",
       "1608299953                    0.0                    0.0   \n",
       "1617160377                    0.0                    0.0   \n",
       "B00001W0KA                    0.0                    0.0   \n",
       "...                           ...                    ...   \n",
       "B00074MEYE                    0.0                    0.0   \n",
       "B00075J1K8                    0.0                    0.0   \n",
       "B00075ZWR4                    0.0                    0.0   \n",
       "B00075ZXLE                    0.0                    0.0   \n",
       "B00075ZYRW                    0.0                    0.0   \n",
       "\n",
       "reviewerID  A02755422E9NI29TCQ5W3  A04559521ZZJ87IMRVPME  \\\n",
       "asin                                                       \n",
       "0000031887                    0.0                    0.0   \n",
       "0123456479                    0.0                    0.0   \n",
       "1608299953                    0.0                    0.0   \n",
       "1617160377                    0.0                    0.0   \n",
       "B00001W0KA                    0.0                    0.0   \n",
       "...                           ...                    ...   \n",
       "B00074MEYE                    0.0                    0.0   \n",
       "B00075J1K8                    0.0                    0.0   \n",
       "B00075ZWR4                    0.0                    0.0   \n",
       "B00075ZXLE                    0.0                    0.0   \n",
       "B00075ZYRW                    0.0                    0.0   \n",
       "\n",
       "reviewerID  A08129883L3CSLT4GL6CC  A0825208308SUUOFJ2SHH  \\\n",
       "asin                                                       \n",
       "0000031887                    0.0                    0.0   \n",
       "0123456479                    0.0                    0.0   \n",
       "1608299953                    0.0                    0.0   \n",
       "1617160377                    0.0                    0.0   \n",
       "B00001W0KA                    0.0                    0.0   \n",
       "...                           ...                    ...   \n",
       "B00074MEYE                    0.0                    0.0   \n",
       "B00075J1K8                    0.0                    0.0   \n",
       "B00075ZWR4                    0.0                    0.0   \n",
       "B00075ZXLE                    0.0                    0.0   \n",
       "B00075ZYRW                    5.0                    0.0   \n",
       "\n",
       "reviewerID  A097288670N6V5MXLZRB  A1001UEHDLCC1Z  ...  AZUNMKF75X0WY  \\\n",
       "asin                                              ...                  \n",
       "0000031887                   0.0             0.0  ...            0.0   \n",
       "0123456479                   0.0             0.0  ...            0.0   \n",
       "1608299953                   0.0             0.0  ...            0.0   \n",
       "1617160377                   0.0             0.0  ...            0.0   \n",
       "B00001W0KA                   0.0             0.0  ...            0.0   \n",
       "...                          ...             ...  ...            ...   \n",
       "B00074MEYE                   0.0             0.0  ...            0.0   \n",
       "B00075J1K8                   0.0             0.0  ...            0.0   \n",
       "B00075ZWR4                   0.0             0.0  ...            0.0   \n",
       "B00075ZXLE                   0.0             0.0  ...            0.0   \n",
       "B00075ZYRW                   0.0             0.0  ...            0.0   \n",
       "\n",
       "reviewerID  AZW49LJWVL83Q  AZWXG6KBXXC2N  AZX2RDN9YXZAE  AZXGPM8EKSHE9  \\\n",
       "asin                                                                     \n",
       "0000031887            0.0            0.0            0.0            0.0   \n",
       "0123456479            0.0            0.0            0.0            0.0   \n",
       "1608299953            0.0            0.0            0.0            0.0   \n",
       "1617160377            0.0            0.0            0.0            0.0   \n",
       "B00001W0KA            0.0            0.0            0.0            0.0   \n",
       "...                   ...            ...            ...            ...   \n",
       "B00074MEYE            0.0            0.0            0.0            0.0   \n",
       "B00075J1K8            0.0            0.0            0.0            0.0   \n",
       "B00075ZWR4            0.0            0.0            0.0            0.0   \n",
       "B00075ZXLE            0.0            0.0            0.0            0.0   \n",
       "B00075ZYRW            0.0            0.0            0.0            0.0   \n",
       "\n",
       "reviewerID  AZXS6P5QWNMLC  AZYGUNBHBC9RI  AZYP4FQ2L2C4O  AZYZQ7I9L7G3G  \\\n",
       "asin                                                                     \n",
       "0000031887            0.0            0.0            0.0            0.0   \n",
       "0123456479            0.0            0.0            0.0            0.0   \n",
       "1608299953            0.0            0.0            0.0            0.0   \n",
       "1617160377            0.0            0.0            0.0            0.0   \n",
       "B00001W0KA            0.0            0.0            0.0            0.0   \n",
       "...                   ...            ...            ...            ...   \n",
       "B00074MEYE            0.0            0.0            0.0            0.0   \n",
       "B00075J1K8            0.0            0.0            0.0            0.0   \n",
       "B00075ZWR4            0.0            0.0            0.0            0.0   \n",
       "B00075ZXLE            0.0            0.0            0.0            0.0   \n",
       "B00075ZYRW            0.0            0.0            0.0            0.0   \n",
       "\n",
       "reviewerID  AZZTOUKVTUMVM  \n",
       "asin                       \n",
       "0000031887            0.0  \n",
       "0123456479            0.0  \n",
       "1608299953            0.0  \n",
       "1617160377            0.0  \n",
       "B00001W0KA            0.0  \n",
       "...                   ...  \n",
       "B00074MEYE            0.0  \n",
       "B00075J1K8            0.0  \n",
       "B00075ZWR4            0.0  \n",
       "B00075ZXLE            0.0  \n",
       "B00075ZYRW            0.0  \n",
       "\n",
       "[566 rows x 8069 columns]"
      ]
     },
     "execution_count": 15,
     "metadata": {},
     "output_type": "execute_result"
    }
   ],
   "source": [
    "df3_pivot"
   ]
  },
  {
   "cell_type": "code",
   "execution_count": 18,
   "metadata": {},
   "outputs": [
    {
     "data": {
      "text/plain": [
       "NearestNeighbors(algorithm='brute', metric='cosine')"
      ]
     },
     "execution_count": 18,
     "metadata": {},
     "output_type": "execute_result"
    }
   ],
   "source": [
    "from sklearn.neighbors import NearestNeighbors\n",
    "\n",
    "model = NearestNeighbors(metric='cosine', algorithm = 'brute')\n",
    "model.fit(df3_matrix)"
   ]
  },
  {
   "cell_type": "code",
   "execution_count": 19,
   "metadata": {},
   "outputs": [
    {
     "data": {
      "text/plain": [
       "array([[0., 0., 0., ..., 0., 0., 0.]])"
      ]
     },
     "execution_count": 19,
     "metadata": {},
     "output_type": "execute_result"
    }
   ],
   "source": [
    "qs  = np.random.choice(df3_pivot.shape[0])\n",
    "\n",
    "df3_pivot.iloc[qs,:].values.reshape(1, -1)"
   ]
  },
  {
   "cell_type": "code",
   "execution_count": 20,
   "metadata": {},
   "outputs": [],
   "source": [
    "distances, indices = model.kneighbors(df3_pivot.iloc[qs,:].values.reshape(1, -1), n_neighbors=6)\n"
   ]
  },
  {
   "cell_type": "code",
   "execution_count": 75,
   "metadata": {},
   "outputs": [
    {
     "data": {
      "text/plain": [
       "'B0000TW41Y'"
      ]
     },
     "execution_count": 75,
     "metadata": {},
     "output_type": "execute_result"
    }
   ],
   "source": [
    "df3_pivot.index[qs]\n"
   ]
  },
  {
   "cell_type": "code",
   "execution_count": 146,
   "metadata": {
    "scrolled": true
   },
   "outputs": [
    {
     "name": "stdout",
     "output_type": "stream",
     "text": [
      "recommedndation for Keen Newport H2 110230-IIRU Men's Outdoor Sandal :\n",
      " \n",
      "1:KEEN Men's Newport Sandal with a distance of : 0.9185299333130414\n",
      "2:Rothco Canvas Card Case with a distance of : 0.9373977967282682\n",
      "3:Seiko - SNA411P1 - Men's Quartz Chronograph Watch - Black Dial - Grey Steel Strap with a distance of : 0.942250052417077\n",
      "4:Seiko - SNA411P1 - Men's Quartz Chronograph Watch - Black Dial - Grey Steel Strap with a distance of : 0.942564768370897\n",
      "5:CLC Custom Leathercraft 110RED Heavy Duty Work Suspenders, Elastic Straps, One Size, Red with a distance of : 0.9530362169033288\n"
     ]
    }
   ],
   "source": [
    "for i in range (0, len(distances.flatten())):\n",
    "    if i ==0:\n",
    "        url  = f\"https://www.amazon.co.uk/dp/{df3_pivot.index[qs]}\"\n",
    "        time.sleep(1.2)\n",
    "        driver.get(url)\n",
    "        body_el = driver.find_element_by_css_selector(\"body\")\n",
    "        html_str = body_el.get_attribute(\"innerHTML\") \n",
    "        html_obj = HTML(html=html_str)\n",
    "        title = html_obj.find(title_lookup, first=True).text\n",
    "        print(f\"recommedndation for {title} :\\n \")\n",
    "    else:\n",
    "        try:\n",
    "            url  = f\"https://www.amazon.co.uk/dp/{df3_pivot.index[indices.flatten()[i]]}\"\n",
    "            time.sleep(1.2)\n",
    "            driver.get(url)\n",
    "            body_el = driver.find_element_by_css_selector(\"body\")\n",
    "            html_str = body_el.get_attribute(\"innerHTML\") \n",
    "            html_obj = HTML(html=html_str)\n",
    "            title = html_obj.find(title_lookup, first=True).text\n",
    "        except:\n",
    "            pass\n",
    "        \n",
    "        print(f'{i}:{title} with a distance of : {distances.flatten()[i]}')\n",
    "        "
   ]
  },
  {
   "cell_type": "code",
   "execution_count": null,
   "metadata": {},
   "outputs": [],
   "source": []
  }
 ],
 "metadata": {
  "kernelspec": {
   "display_name": "Python 3",
   "language": "python",
   "name": "python3"
  },
  "language_info": {
   "codemirror_mode": {
    "name": "ipython",
    "version": 3
   },
   "file_extension": ".py",
   "mimetype": "text/x-python",
   "name": "python",
   "nbconvert_exporter": "python",
   "pygments_lexer": "ipython3",
   "version": "3.8.3"
  }
 },
 "nbformat": 4,
 "nbformat_minor": 4
}
